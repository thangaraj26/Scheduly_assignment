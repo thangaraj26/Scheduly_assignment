{
 "cells": [
  {
   "cell_type": "markdown",
   "id": "aa161ed2",
   "metadata": {},
   "source": []
  },
  {
   "cell_type": "code",
   "execution_count": 15,
   "id": "9d94c945",
   "metadata": {},
   "outputs": [
    {
     "name": "stdout",
     "output_type": "stream",
     "text": [
      "Collecting pandas\n",
      "  Using cached pandas-1.5.3-cp310-cp310-macosx_11_0_arm64.whl (10.9 MB)\n",
      "Requirement already satisfied: numpy>=1.21.0 in ./lib/python3.10/site-packages (from pandas) (1.24.2)\n",
      "Collecting pytz>=2020.1\n",
      "  Using cached pytz-2022.7.1-py2.py3-none-any.whl (499 kB)\n",
      "Requirement already satisfied: python-dateutil>=2.8.1 in ./lib/python3.10/site-packages (from pandas) (2.8.2)\n",
      "Requirement already satisfied: six>=1.5 in ./lib/python3.10/site-packages (from python-dateutil>=2.8.1->pandas) (1.16.0)\n",
      "Installing collected packages: pytz, pandas\n",
      "Successfully installed pandas-1.5.3 pytz-2022.7.1\n"
     ]
    }
   ],
   "source": []
  },
  {
   "attachments": {},
   "cell_type": "markdown",
   "id": "671bd6cb",
   "metadata": {},
   "source": [
    "Step-1 : Create your annotations with the help of an external tool\n",
    "\n",
    "https://tecoholic.github.io/ner-annotator/"
   ]
  },
  {
   "cell_type": "code",
   "execution_count": 1,
   "id": "e4f0ff05",
   "metadata": {},
   "outputs": [],
   "source": [
    "import pandas as pd\n",
    "import json\n",
    "import os\n",
    "with open('annotations.json', 'r') as f:\n",
    "    data = json.load(f)"
   ]
  },
  {
   "cell_type": "code",
   "execution_count": 2,
   "id": "75f267c9",
   "metadata": {},
   "outputs": [
    {
     "data": {
      "text/plain": [
       "{'classes': ['AGENDA'],\n",
       " 'annotations': [[\"Schedule a meeting next week between John, Mary, and Jane to discuss the new product launch. We'll need 1 hour.\",\n",
       "   {'entities': [[73, 92, 'AGENDA']]}],\n",
       "  ['Can we meet on Friday to talk about the sales figures from last quarter? I need to prepare a presentation.',\n",
       "   {'entities': [[40, 53, 'AGENDA']]}],\n",
       "  [\"Let's get together tomorrow to brainstorm ideas for the upcoming marketing campaign.\",\n",
       "   {'entities': [[31, 41, 'AGENDA']]}],\n",
       "  [\"chedule a meeting next Wednesday with Alex and Jim to discuss the new marketing campaign. We'll need 2 hours\",\n",
       "   {'entities': [[66, 89, 'AGENDA']]}],\n",
       "  ['We need to discuss the budget for the next quarter during our meeting tomorrow.',\n",
       "   {'entities': [[23, 29, 'AGENDA']]}],\n",
       "  ['We need to talk about the sales figures from last month during our meeting on Friday.',\n",
       "   {'entities': [[26, 39, 'AGENDA']]}],\n",
       "  ['Please schedule a meeting for next Tuesday to discuss the new project proposal.',\n",
       "   {'entities': [[58, 78, 'AGENDA']]}],\n",
       "  [\"Let's have a meeting to brainstorm ideas for the upcoming conference agenda.\",\n",
       "   {'entities': [[24, 34, 'AGENDA']]}]]}"
      ]
     },
     "execution_count": 2,
     "metadata": {},
     "output_type": "execute_result"
    }
   ],
   "source": [
    "data\n"
   ]
  },
  {
   "cell_type": "code",
   "execution_count": 3,
   "id": "44b4bed8",
   "metadata": {},
   "outputs": [],
   "source": [
    "entity_name = \"AGENDA\"\n",
    "\n",
    "train_data = data['annotations']\n",
    "train_data = [tuple(i) for i in train_data]"
   ]
  },
  {
   "cell_type": "code",
   "execution_count": 4,
   "id": "8c589c56",
   "metadata": {},
   "outputs": [],
   "source": [
    "train_data\n",
    "for i in train_data:\n",
    "    if i[1]['entities'] == []:\n",
    "        i[1]['entities'] = (0, 0, entity_name)\n",
    "    else:\n",
    "        i[1]['entities'][0] = tuple(i[1]['entities'][0])"
   ]
  },
  {
   "cell_type": "code",
   "execution_count": 5,
   "id": "8e14c554",
   "metadata": {},
   "outputs": [
    {
     "data": {
      "text/plain": [
       "[(\"Schedule a meeting next week between John, Mary, and Jane to discuss the new product launch. We'll need 1 hour.\",\n",
       "  {'entities': [(73, 92, 'AGENDA')]}),\n",
       " ('Can we meet on Friday to talk about the sales figures from last quarter? I need to prepare a presentation.',\n",
       "  {'entities': [(40, 53, 'AGENDA')]}),\n",
       " (\"Let's get together tomorrow to brainstorm ideas for the upcoming marketing campaign.\",\n",
       "  {'entities': [(31, 41, 'AGENDA')]}),\n",
       " (\"chedule a meeting next Wednesday with Alex and Jim to discuss the new marketing campaign. We'll need 2 hours\",\n",
       "  {'entities': [(66, 89, 'AGENDA')]}),\n",
       " ('We need to discuss the budget for the next quarter during our meeting tomorrow.',\n",
       "  {'entities': [(23, 29, 'AGENDA')]}),\n",
       " ('We need to talk about the sales figures from last month during our meeting on Friday.',\n",
       "  {'entities': [(26, 39, 'AGENDA')]}),\n",
       " ('Please schedule a meeting for next Tuesday to discuss the new project proposal.',\n",
       "  {'entities': [(58, 78, 'AGENDA')]}),\n",
       " (\"Let's have a meeting to brainstorm ideas for the upcoming conference agenda.\",\n",
       "  {'entities': [(24, 34, 'AGENDA')]})]"
      ]
     },
     "execution_count": 5,
     "metadata": {},
     "output_type": "execute_result"
    }
   ],
   "source": [
    "train_data"
   ]
  },
  {
   "cell_type": "code",
   "execution_count": 5,
   "id": "eec4a510",
   "metadata": {},
   "outputs": [
    {
     "name": "stderr",
     "output_type": "stream",
     "text": [
      "100%|██████████| 8/8 [00:00<00:00, 3181.12it/s]\n"
     ]
    }
   ],
   "source": [
    "import pandas as pd\n",
    "import os\n",
    "from tqdm import tqdm\n",
    "import spacy\n",
    "from spacy.tokens import DocBin\n",
    "\n",
    "#nlp = spacy.blank(\"en\") # load a new spacy model\n",
    "nlp = spacy.load(\"en_core_web_sm\") # load other spacy model\n",
    "\n",
    "db = DocBin() # create a DocBin object\n",
    "\n",
    "for text, annot in tqdm(train_data): # data in previous format\n",
    "    doc = nlp.make_doc(text) # create doc object from text\n",
    "    ents = []\n",
    "    for start, end, label in annot[\"entities\"]: # add character indexes\n",
    "        span = doc.char_span(start, end, label=label, alignment_mode=\"contract\")\n",
    "        if span is None:\n",
    "            print(\"Skipping entity\")\n",
    "        else:\n",
    "            ents.append(span)\n",
    "    doc.ents = ents # label the text with the ents\n",
    "    db.add(doc)\n",
    "\n",
    "db.to_disk(\"./train.spacy\") # save the docbin object"
   ]
  },
  {
   "cell_type": "code",
   "execution_count": 6,
   "id": "6c150de3",
   "metadata": {},
   "outputs": [
    {
     "name": "stdout",
     "output_type": "stream",
     "text": [
      "\u001b[38;5;2m✔ Created output directory: output\u001b[0m\n",
      "\u001b[38;5;4mℹ Saving to output directory: output\u001b[0m\n",
      "\u001b[38;5;4mℹ Using CPU\u001b[0m\n",
      "\u001b[1m\n",
      "=========================== Initializing pipeline ===========================\u001b[0m\n",
      "[2023-03-12 20:08:58,794] [INFO] Set up nlp object from config\n",
      "[2023-03-12 20:08:58,800] [INFO] Pipeline: ['tok2vec', 'ner']\n",
      "[2023-03-12 20:08:58,802] [INFO] Created vocabulary\n",
      "[2023-03-12 20:08:59,058] [WARNING] [W112] The model specified to use for initial vectors (en_core_web_sm) has no vectors. This is almost certainly a mistake.\n",
      "[2023-03-12 20:08:59,059] [INFO] Added vectors: en_core_web_sm\n",
      "[2023-03-12 20:08:59,059] [INFO] Finished initializing nlp object\n",
      "[2023-03-12 20:08:59,143] [INFO] Initialized pipeline components: ['tok2vec', 'ner']\n",
      "\u001b[38;5;2m✔ Initialized pipeline\u001b[0m\n",
      "\u001b[1m\n",
      "============================= Training pipeline =============================\u001b[0m\n",
      "\u001b[38;5;4mℹ Pipeline: ['tok2vec', 'ner']\u001b[0m\n",
      "\u001b[38;5;4mℹ Initial learn rate: 0.001\u001b[0m\n",
      "E    #       LOSS TOK2VEC  LOSS NER  ENTS_F  ENTS_P  ENTS_R  SCORE \n",
      "---  ------  ------------  --------  ------  ------  ------  ------\n",
      "  0       0          0.00     38.50    0.00    0.00    0.00    0.00\n",
      "115     200          1.19    460.26  100.00  100.00  100.00    1.00\n",
      "315     400          0.00      0.00  100.00  100.00  100.00    1.00\n",
      "515     600          0.00      0.00  100.00  100.00  100.00    1.00\n",
      "715     800          0.00      0.00  100.00  100.00  100.00    1.00\n",
      "915    1000          0.00      0.00  100.00  100.00  100.00    1.00\n",
      "1115    1200          0.00      0.00  100.00  100.00  100.00    1.00\n",
      "1315    1400          0.00      0.00  100.00  100.00  100.00    1.00\n",
      "1515    1600          0.00      0.00  100.00  100.00  100.00    1.00\n",
      "1715    1800          0.00      0.00  100.00  100.00  100.00    1.00\n",
      "\u001b[38;5;2m✔ Saved pipeline to output directory\u001b[0m\n",
      "output/model-last\n"
     ]
    }
   ],
   "source": [
    "!python -m spacy train config.cfg --output ./output --paths.train ./train.spacy --paths.dev ./train.spacy "
   ]
  },
  {
   "cell_type": "code",
   "execution_count": 10,
   "id": "3848bbbb",
   "metadata": {},
   "outputs": [
    {
     "data": {
      "text/html": [
       "<span class=\"tex2jax_ignore\"><div class=\"entities\" style=\"line-height: 2.5; direction: ltr\">Schedule a meeting next Wednesday with Alex and Jim to discuss the \n",
       "<mark class=\"entity\" style=\"background: #ddd; padding: 0.45em 0.6em; margin: 0 0.25em; line-height: 1; border-radius: 0.35em;\">\n",
       "    product launch.\n",
       "    <span style=\"font-size: 0.8em; font-weight: bold; line-height: 1; border-radius: 0.35em; vertical-align: middle; margin-left: 0.5rem\">AGENDA</span>\n",
       "</mark>\n",
       " We'll need 2 hours.</div></span>"
      ],
      "text/plain": [
       "<IPython.core.display.HTML object>"
      ]
     },
     "metadata": {},
     "output_type": "display_data"
    }
   ],
   "source": [
    "nlp1 = spacy.load(\"./output/model-best\") #load the best model\n",
    "doc = nlp1(\"Schedule a meeting next Wednesday with Alex and Jim to discuss the product launch. We'll need 2 hours.\") # input sample text\n",
    "\n",
    "spacy.displacy.render(doc, style=\"ent\", jupyter=True)"
   ]
  },
  {
   "cell_type": "code",
   "execution_count": null,
   "id": "6cbec1fd",
   "metadata": {},
   "outputs": [],
   "source": []
  }
 ],
 "metadata": {
  "kernelspec": {
   "display_name": "Python 3 (ipykernel)",
   "language": "python",
   "name": "python3"
  },
  "language_info": {
   "codemirror_mode": {
    "name": "ipython",
    "version": 3
   },
   "file_extension": ".py",
   "mimetype": "text/x-python",
   "name": "python",
   "nbconvert_exporter": "python",
   "pygments_lexer": "ipython3",
   "version": "3.10.10"
  }
 },
 "nbformat": 4,
 "nbformat_minor": 5
}
